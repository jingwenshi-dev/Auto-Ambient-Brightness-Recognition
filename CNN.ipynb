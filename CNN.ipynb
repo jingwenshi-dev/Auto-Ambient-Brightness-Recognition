{
 "cells": [
  {
   "cell_type": "markdown",
   "source": [
    "## CNN for Ambient Brightness Recognition"
   ],
   "metadata": {
    "collapsed": false,
    "id": "ssV7skh7tmY7"
   }
  },
  {
   "cell_type": "markdown",
   "source": [
    "## 0. import packages"
   ],
   "metadata": {
    "collapsed": false,
    "id": "jxEC4357tmY9"
   }
  },
  {
   "cell_type": "code",
   "execution_count": 11,
   "metadata": {
    "collapsed": true,
    "id": "BUdqkQRDtmY-",
    "executionInfo": {
     "status": "ok",
     "timestamp": 1681513968644,
     "user_tz": 240,
     "elapsed": 1104,
     "user": {
      "displayName": "Jingwen Shi",
      "userId": "14606256671433276260"
     }
    },
    "ExecuteTime": {
     "start_time": "2023-04-29T03:52:35.314536Z",
     "end_time": "2023-04-29T03:52:35.328010Z"
    }
   },
   "outputs": [],
   "source": [
    "import matplotlib.pyplot as plt\n",
    "import torch\n",
    "import torch.nn as nn\n",
    "import torch.optim as optim\n",
    "\n",
    "from torch.utils.data import DataLoader\n",
    "from torchvision.datasets import ImageFolder\n",
    "from torchvision import transforms"
   ]
  },
  {
   "cell_type": "code",
   "execution_count": 12,
   "outputs": [
    {
     "name": "stdout",
     "output_type": "stream",
     "text": [
      "Nvidia GPU: True\n",
      "Current Device: cuda\n"
     ]
    }
   ],
   "source": [
    "print(f\"Nvidia GPU: {torch.cuda.is_available()}\")\n",
    "device = torch.device(\"cuda\" if torch.cuda.is_available() else \"cpu\")\n",
    "print(f\"Current Device: {device}\")"
   ],
   "metadata": {
    "colab": {
     "base_uri": "https://localhost:8080/"
    },
    "id": "JioNcY4ctmZA",
    "executionInfo": {
     "status": "ok",
     "timestamp": 1681512363957,
     "user_tz": 240,
     "elapsed": 10,
     "user": {
      "displayName": "Jingwen Shi",
      "userId": "14606256671433276260"
     }
    },
    "outputId": "ae798593-bd9c-4e7d-cfbc-df82988ade6b",
    "ExecuteTime": {
     "start_time": "2023-04-29T03:52:36.682060Z",
     "end_time": "2023-04-29T03:52:36.711808Z"
    }
   }
  },
  {
   "cell_type": "markdown",
   "source": [
    "## 1. Data Preparation"
   ],
   "metadata": {
    "collapsed": false,
    "id": "EMk0h6n_tmZC"
   }
  },
  {
   "cell_type": "code",
   "execution_count": 19,
   "outputs": [
    {
     "name": "stdout",
     "output_type": "stream",
     "text": [
      "Dataset ImageFolder\n",
      "    Number of datapoints: 4\n",
      "    Root location: ./Image/Train\n",
      "    StandardTransform\n",
      "Transform: ToTensor()\n"
     ]
    },
    {
     "ename": "NameError",
     "evalue": "name 'test_data' is not defined",
     "output_type": "error",
     "traceback": [
      "\u001B[1;31m---------------------------------------------------------------------------\u001B[0m",
      "\u001B[1;31mNameError\u001B[0m                                 Traceback (most recent call last)",
      "Cell \u001B[1;32mIn[19], line 8\u001B[0m\n\u001B[0;32m      6\u001B[0m \u001B[38;5;28mprint\u001B[39m(train_data)\n\u001B[0;32m      7\u001B[0m \u001B[38;5;66;03m# test_data = ImageFolder(test_path, transform=transforms.ToTensor())\u001B[39;00m\n\u001B[1;32m----> 8\u001B[0m \u001B[38;5;28mprint\u001B[39m(\u001B[43mtest_data\u001B[49m)\n",
      "\u001B[1;31mNameError\u001B[0m: name 'test_data' is not defined"
     ]
    }
   ],
   "source": [
    "#load date to train, valid and test\n",
    "train_path = \"./Image/Train\"\n",
    "test_path = \"./Image/Test\"\n",
    "\n",
    "train_data = ImageFolder(train_path, transform=transforms.ToTensor())\n",
    "print(train_data)\n",
    "test_data = ImageFolder(test_path, transform=transforms.ToTensor())\n",
    "print(test_data)"
   ],
   "metadata": {
    "id": "rftk2t7XtmZC",
    "executionInfo": {
     "status": "ok",
     "timestamp": 1681512363958,
     "user_tz": 240,
     "elapsed": 8,
     "user": {
      "displayName": "Jingwen Shi",
      "userId": "14606256671433276260"
     }
    },
    "ExecuteTime": {
     "start_time": "2023-04-29T03:53:38.028283Z",
     "end_time": "2023-04-29T03:53:38.052422Z"
    }
   }
  },
  {
   "cell_type": "code",
   "source": [
    "# Shape of the data\n",
    "\n",
    "for x, y in train_data:\n",
    "    print(x.shape)\n",
    "    print(y)\n",
    "    break\n",
    "\n",
    "train_loader = DataLoader(train_data, batch_size=10, shuffle=True)\n",
    "\n",
    "for x, y in train_loader:\n",
    "    print(x.shape)\n",
    "    print(y)\n",
    "    break\n",
    "\n",
    "print(\"Num of Img in Training Set:\", len(train_data))\n",
    "print(\"Num of Img in Test Set:\", len(test_data))"
   ],
   "metadata": {
    "colab": {
     "base_uri": "https://localhost:8080/"
    },
    "id": "kTqu4OzAOkeA",
    "executionInfo": {
     "status": "ok",
     "timestamp": 1681512363958,
     "user_tz": 240,
     "elapsed": 8,
     "user": {
      "displayName": "Jingwen Shi",
      "userId": "14606256671433276260"
     }
    },
    "outputId": "5d967d94-4d29-403d-dc8f-69417c9685a7"
   },
   "execution_count": 20,
   "outputs": [
    {
     "name": "stdout",
     "output_type": "stream",
     "text": [
      "torch.Size([3, 1080, 1920])\n",
      "0\n",
      "torch.Size([4, 3, 1080, 1920])\n",
      "tensor([2, 1, 3, 0])\n",
      "Num of Img in Training Set: 4\n"
     ]
    },
    {
     "ename": "NameError",
     "evalue": "name 'valid_data' is not defined",
     "output_type": "error",
     "traceback": [
      "\u001B[1;31m---------------------------------------------------------------------------\u001B[0m",
      "\u001B[1;31mNameError\u001B[0m                                 Traceback (most recent call last)",
      "Cell \u001B[1;32mIn[20], line 16\u001B[0m\n\u001B[0;32m     13\u001B[0m     \u001B[38;5;28;01mbreak\u001B[39;00m\n\u001B[0;32m     15\u001B[0m \u001B[38;5;28mprint\u001B[39m(\u001B[38;5;124m\"\u001B[39m\u001B[38;5;124mNum of Img in Training Set:\u001B[39m\u001B[38;5;124m\"\u001B[39m, \u001B[38;5;28mlen\u001B[39m(train_data))\n\u001B[1;32m---> 16\u001B[0m \u001B[38;5;28mprint\u001B[39m(\u001B[38;5;124m\"\u001B[39m\u001B[38;5;124mNum of Img in Valid Set:\u001B[39m\u001B[38;5;124m\"\u001B[39m, \u001B[38;5;28mlen\u001B[39m(\u001B[43mvalid_data\u001B[49m))\n\u001B[0;32m     17\u001B[0m \u001B[38;5;28mprint\u001B[39m(\u001B[38;5;124m\"\u001B[39m\u001B[38;5;124mNum of Img in Test Set:\u001B[39m\u001B[38;5;124m\"\u001B[39m, \u001B[38;5;28mlen\u001B[39m(test_data))\n",
      "\u001B[1;31mNameError\u001B[0m: name 'valid_data' is not defined"
     ]
    }
   ]
  },
  {
   "cell_type": "markdown",
   "source": [
    "## 5.CNN Model"
   ],
   "metadata": {
    "id": "vtca_mHSb866"
   }
  },
  {
   "cell_type": "code",
   "source": [
    "class CNN(nn.Module):\n",
    "    def __init__(self) -> None:\n",
    "        super(CNN, self).__init__()\n",
    "\n",
    "        # Level 1: (0 + 24) / 2 = 12\n",
    "        # Level 2: (25 + 49) / 2 = 37\n",
    "        # Level 3: (50 + 74) / 2 = 62\n",
    "        # Level 4: (75 + 100) / 2 = 87\n",
    "        self.brightness_levels = 4\n",
    "        self.out_channels = 16\n",
    "\n",
    "        self.pool = nn.AvgPool2d(kernel_size=2, stride=2)\n",
    "\n",
    "        self.conv1 = nn.Conv2d(in_channels=3, out_channels=self.out_channels, kernel_size=3, padding=1)\n",
    "        self.batch_norm1 = nn.BatchNorm2d(self.out_channels)\n",
    "\n",
    "        self.out_channels *= 2\n",
    "\n",
    "        self.conv2 = nn.Conv2d(in_channels=self.out_channels//2, out_channels=self.out_channels, kernel_size=3, padding=1)\n",
    "        self.batch_norm2 = nn.BatchNorm2d(self.out_channels)\n",
    "\n",
    "        self.out_channels *= 2\n",
    "\n",
    "        self.conv3 = nn.Conv2d(in_channels=self.out_channels//2, out_channels=self.out_channels, kernel_size=3, padding=1)\n",
    "        self.batch_norm3 = nn.BatchNorm2d(self.out_channels)\n",
    "\n",
    "        # A size of 1920x1080 picture is reduced by a factor of 2 three times in three pooling layers -> 240x135.\n",
    "        # Tensor is represented in 1080x1920 -> 135x240\n",
    "        self.fc = nn.Linear(self.out_channels * 135 * 240, self.brightness_levels)\n",
    "\n",
    "    def forward(self, x):\n",
    "\n",
    "        x = self.batch_norm1(self.pool(torch.relu(self.conv1(x))))\n",
    "        x = self.batch_norm2(self.pool(torch.relu(self.conv2(x))))\n",
    "        x = self.batch_norm3(self.pool(torch.relu(self.conv3(x))))\n",
    "\n",
    "        # Resize the input from 4D to 3D wrt to the batch size in order to fit the input size of FC layer\n",
    "        x = x.view(-1, self.out_channels * 135 * 240)\n",
    "\n",
    "        return torch.softmax(self.fc(x), dim=1)"
   ],
   "metadata": {
    "id": "6AIlML3JvwBl",
    "executionInfo": {
     "status": "ok",
     "timestamp": 1681512368530,
     "user_tz": 240,
     "elapsed": 9,
     "user": {
      "displayName": "Jingwen Shi",
      "userId": "14606256671433276260"
     }
    }
   },
   "execution_count": 11,
   "outputs": []
  },
  {
   "cell_type": "markdown",
   "source": [
    "## 6. Training"
   ],
   "metadata": {
    "id": "nOexSTt6X7mp"
   }
  },
  {
   "cell_type": "code",
   "source": [
    "def get_accuracy(model, data, batch_size=32):\n",
    "    # note: why should we use a larger batch size here?\n",
    "    loader = DataLoader(data, batch_size=batch_size)\n",
    "\n",
    "    model.eval() # annotate model for evaluation (why do we need to do this?)\n",
    "\n",
    "    correct = 0\n",
    "    total = 0\n",
    "\n",
    "    # Loader returns images and corresponding labels in a batch\n",
    "    # imgs = a batch of imgs at current iteration\n",
    "    for imgs, labels in loader:\n",
    "        output = model(imgs)\n",
    "\n",
    "        # output.max(1, keepdim=True) returns the index of highest prob in softmax\n",
    "        _, pred = output.max(1, keepdim=True)\n",
    "        correct += pred.eq(labels.view_as(pred)).sum().item()\n",
    "        total += imgs.shape[0]\n",
    "\n",
    "    return correct/total"
   ],
   "metadata": {
    "id": "tMeHGP3BX9Dp",
    "executionInfo": {
     "status": "ok",
     "timestamp": 1681514011142,
     "user_tz": 240,
     "elapsed": 393,
     "user": {
      "displayName": "Jingwen Shi",
      "userId": "14606256671433276260"
     }
    }
   },
   "execution_count": 14,
   "outputs": []
  },
  {
   "cell_type": "code",
   "source": [
    "def train(model, train_data, valid_data, batch_size=32, weight_decay=0.0,\n",
    "          optimizer=\"sgd\", momentum=0.9, learning_rate=0.001, num_epochs=7,\n",
    "          shuffle_data=True, checkpoint_path=None, print_acc=True):\n",
    "\n",
    "    # Shuffled data, last batch dropped if smaller than rest\n",
    "    train_loader = DataLoader(train_data, batch_size=batch_size, shuffle=shuffle_data, drop_last=True)\n",
    "\n",
    "    # Loss Function\n",
    "    # Since it is a multi-class classcificaion problem, we used softmax.\n",
    "    # With softmax, we need to use corss-entropy. If use square loss, the gradient signal will be too small.\n",
    "    criterion = nn.CrossEntropyLoss()\n",
    "\n",
    "    # Optimizer\n",
    "    # Used SGD instead of Adam since SGD generlize better than Adam, although Adam is faster.\n",
    "    assert optimizer in (\"sgd\", \"adam\")\n",
    "    if optimizer == \"sgd\":\n",
    "        optimizer = optim.SGD(model.parameters(),\n",
    "                              lr=learning_rate,\n",
    "                              momentum=momentum,\n",
    "                              weight_decay=weight_decay)\n",
    "    else:\n",
    "        optimizer = optim.Adam(model.parameters(),\n",
    "                               lr=learning_rate,\n",
    "                               weight_decay=weight_decay)\n",
    "    iters, losses, train_acc, val_acc, n = [], [], [], [], 0\n",
    "\n",
    "    print(\"\\n ----- Start Training ----- \\n\")\n",
    "\n",
    "    for epoch in range(num_epochs):\n",
    "\n",
    "        for imgs, labels in iter(train_loader):\n",
    "\n",
    "            # Start training mode\n",
    "            model.train()\n",
    "\n",
    "            output = model(imgs)\n",
    "            loss = criterion(output, labels)\n",
    "            loss.backward()\n",
    "            optimizer.step()\n",
    "\n",
    "            optimizer.zero_grad()\n",
    "            n += 1\n",
    "\n",
    "        iters.append(n)\n",
    "        losses.append(float(loss)/batch_size)\n",
    "        train_acc.append(get_accuracy(model, train_data, batch_size))\n",
    "        val_acc.append(get_accuracy(model, valid_data, batch_size))\n",
    "\n",
    "        if checkpoint_path is not None:\n",
    "            torch.save(model.state_dict(), checkpoint_path)\n",
    "\n",
    "        if print_acc:\n",
    "            print(\"Iter %d. [Val Acc %.0f%%] [Train Acc %.0f%%, Loss %f]\" % (\n",
    "                    n, val_acc[-1] * 100, train_acc[-1] * 100, losses[-1]))\n",
    "\n",
    "    # Plot Graph\n",
    "    plt.title(\"Learning Curve\")\n",
    "    plt.plot(iters, losses, label=\"Train\")\n",
    "    plt.xlabel(\"Iterations\")\n",
    "    plt.ylabel(\"Loss\")\n",
    "    plt.show()\n",
    "\n",
    "    plt.title(\"Learning Curve\")\n",
    "    plt.plot(iters, train_acc, label=\"Train\")\n",
    "    plt.plot(iters, val_acc, label=\"Validation\")\n",
    "    plt.xlabel(\"Iterations\")\n",
    "    plt.ylabel(\"Training Accuracy\")\n",
    "    plt.legend(loc='best')\n",
    "    plt.show()\n",
    "\n",
    "    print(\"Final Training Accuracy: {}\".format(train_acc[-1]))\n",
    "    print(\"Final Validation Accuracy: {}\".format(val_acc[-1]))"
   ],
   "metadata": {
    "colab": {
     "base_uri": "https://localhost:8080/",
     "height": 1000
    },
    "id": "44gN6N5GaDs5",
    "executionInfo": {
     "status": "ok",
     "timestamp": 1681513980812,
     "user_tz": 240,
     "elapsed": 2303,
     "user": {
      "displayName": "Jingwen Shi",
      "userId": "14606256671433276260"
     }
    },
    "outputId": "3b376413-018d-48b6-b263-f9f62614857a",
    "ExecuteTime": {
     "start_time": "2023-04-29T03:01:53.739974Z",
     "end_time": "2023-04-29T03:01:53.765485Z"
    }
   },
   "execution_count": 7,
   "outputs": []
  }
 ],
 "metadata": {
  "kernelspec": {
   "display_name": "Python 3",
   "language": "python",
   "name": "python3"
  },
  "language_info": {
   "codemirror_mode": {
    "name": "ipython",
    "version": 2
   },
   "file_extension": ".py",
   "mimetype": "text/x-python",
   "name": "python",
   "nbconvert_exporter": "python",
   "pygments_lexer": "ipython2",
   "version": "2.7.6"
  },
  "colab": {
   "provenance": [
    {
     "file_id": "1el2s1Rgy7FX24o_rO1Hg9vIeck_plia0",
     "timestamp": 1680570556286
    }
   ],
   "toc_visible": true
  },
  "accelerator": "GPU",
  "gpuClass": "standard"
 },
 "nbformat": 4,
 "nbformat_minor": 0
}
