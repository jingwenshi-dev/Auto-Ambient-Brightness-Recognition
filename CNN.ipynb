{
 "cells": [
  {
   "cell_type": "markdown",
   "source": [
    "## CNN for Ambient Brightness Recognition"
   ],
   "metadata": {
    "collapsed": false,
    "id": "ssV7skh7tmY7"
   }
  },
  {
   "cell_type": "markdown",
   "source": [
    "## 0. import packages"
   ],
   "metadata": {
    "collapsed": false,
    "id": "jxEC4357tmY9"
   }
  },
  {
   "cell_type": "code",
   "execution_count": 49,
   "metadata": {
    "collapsed": true,
    "id": "BUdqkQRDtmY-",
    "executionInfo": {
     "status": "ok",
     "timestamp": 1681513968644,
     "user_tz": 240,
     "elapsed": 1104,
     "user": {
      "displayName": "Jingwen Shi",
      "userId": "14606256671433276260"
     }
    },
    "ExecuteTime": {
     "start_time": "2023-04-29T18:54:12.078421Z",
     "end_time": "2023-04-29T18:54:12.080776Z"
    }
   },
   "outputs": [],
   "source": [
    "import os\n",
    "import matplotlib.pyplot as plt\n",
    "import torch\n",
    "import torch.nn as nn\n",
    "import torch.optim as optim\n",
    "\n",
    "from torch.utils.data import DataLoader\n",
    "from torchvision.datasets import ImageFolder\n",
    "from torchvision import transforms\n",
    "\n",
    "from PIL import Image"
   ]
  },
  {
   "cell_type": "code",
   "execution_count": 50,
   "outputs": [
    {
     "name": "stdout",
     "output_type": "stream",
     "text": [
      "Nvidia GPU: True\n",
      "Current Device: mps\n"
     ]
    }
   ],
   "source": [
    "print(f\"Nvidia GPU: {torch.backends.mps.is_available()}\")\n",
    "device = torch.device(\"mps\" if torch.backends.mps.is_available() else \"cpu\")\n",
    "print(f\"Current Device: {device}\")"
   ],
   "metadata": {
    "colab": {
     "base_uri": "https://localhost:8080/"
    },
    "id": "JioNcY4ctmZA",
    "executionInfo": {
     "status": "ok",
     "timestamp": 1681512363957,
     "user_tz": 240,
     "elapsed": 10,
     "user": {
      "displayName": "Jingwen Shi",
      "userId": "14606256671433276260"
     }
    },
    "outputId": "ae798593-bd9c-4e7d-cfbc-df82988ade6b",
    "ExecuteTime": {
     "start_time": "2023-04-29T18:54:12.081398Z",
     "end_time": "2023-04-29T18:54:12.087674Z"
    }
   }
  },
  {
   "cell_type": "markdown",
   "source": [
    "## 1. Data Preparation"
   ],
   "metadata": {
    "collapsed": false,
    "id": "EMk0h6n_tmZC"
   }
  },
  {
   "cell_type": "code",
   "execution_count": 51,
   "outputs": [
    {
     "name": "stdout",
     "output_type": "stream",
     "text": [
      "Successfully compressed ./Image/Train/62%/IMG_5354.JPG\n",
      "Successfully compressed ./Image/Train/62%/Image_20230429033428.jpg\n",
      "Successfully compressed ./Image/Train/62%/IMG_5367.JPG\n",
      "Successfully compressed ./Image/Train/62%/IMG_5364.JPG\n",
      "Successfully compressed ./Image/Train/12%/IMG_5369.JPG\n",
      "Successfully compressed ./Image/Train/12%/IMG_5356.JPG\n",
      "Successfully compressed ./Image/Train/12%/Image_20230429033405.jpg\n",
      "Successfully compressed ./Image/Train/12%/IMG_5361.JPG\n",
      "Successfully compressed ./Image/Train/37%/IMG_5368.JPG\n",
      "Successfully compressed ./Image/Train/37%/IMG_5355.JPG\n",
      "Successfully compressed ./Image/Train/37%/Image_20230429033422.jpg\n",
      "Successfully compressed ./Image/Train/37%/IMG_5363.JPG\n",
      "Successfully compressed ./Image/Train/87%/IMG_5357.JPG\n",
      "Successfully compressed ./Image/Train/87%/Image_20230429033433.jpg\n",
      "Successfully compressed ./Image/Train/87%/IMG_5366.JPG\n",
      "Successfully compressed ./Image/Train/87%/IMG_5365.JPG\n",
      "Successfully compressed ./Image/Test/62%/IMG_5354.JPG\n",
      "Successfully compressed ./Image/Test/62%/Image_20230429033428.jpg\n",
      "Successfully compressed ./Image/Test/62%/IMG_5367.JPG\n",
      "Successfully compressed ./Image/Test/62%/IMG_5364.JPG\n",
      "Successfully compressed ./Image/Test/12%/IMG_5369.JPG\n",
      "Successfully compressed ./Image/Test/12%/IMG_5356.JPG\n",
      "Successfully compressed ./Image/Test/12%/Image_20230429033405.jpg\n",
      "Successfully compressed ./Image/Test/12%/IMG_5361.JPG\n",
      "Successfully compressed ./Image/Test/37%/IMG_5368.JPG\n",
      "Successfully compressed ./Image/Test/37%/IMG_5355.JPG\n",
      "Successfully compressed ./Image/Test/37%/Image_20230429033422.jpg\n",
      "Successfully compressed ./Image/Test/37%/IMG_5363.JPG\n",
      "Successfully compressed ./Image/Test/87%/IMG_5357.JPG\n",
      "Successfully compressed ./Image/Test/87%/Image_20230429033433.jpg\n",
      "Successfully compressed ./Image/Test/87%/IMG_5366.JPG\n",
      "Successfully compressed ./Image/Test/87%/IMG_5365.JPG\n",
      "Dataset ImageFolder\n",
      "    Number of datapoints: 16\n",
      "    Root location: ./Image/Train\n",
      "    StandardTransform\n",
      "Transform: ToTensor()\n",
      "Dataset ImageFolder\n",
      "    Number of datapoints: 16\n",
      "    Root location: ./Image/Test\n",
      "    StandardTransform\n",
      "Transform: ToTensor()\n"
     ]
    },
    {
     "name": "stderr",
     "output_type": "stream",
     "text": [
      "/var/folders/p2/4p_6843n31j9g3x2qnm_lccc0000gn/T/ipykernel_7224/2696368750.py:12: DeprecationWarning: ANTIALIAS is deprecated and will be removed in Pillow 10 (2023-07-01). Use LANCZOS or Resampling.LANCZOS instead.\n",
      "  img = img.resize(target_size, Image.ANTIALIAS)\n"
     ]
    }
   ],
   "source": [
    "#load date to train, valid and test\n",
    "train_path = \"./Image/Train\"\n",
    "test_path = \"./Image/Test\"\n",
    "\n",
    "def compress_images(path, target_size=(640, 480)):\n",
    "    for root, dirs, files in os.walk(path):\n",
    "        for file in files:\n",
    "            if file.lower().endswith(('.png', '.jpg', '.jpeg', '.tiff', '.bmp', '.gif')):\n",
    "                img_path = os.path.join(root, file)\n",
    "                try:\n",
    "                    img = Image.open(img_path)\n",
    "                    img = img.resize(target_size, Image.ANTIALIAS)\n",
    "                    img.save(img_path)\n",
    "                    print(f\"Successfully compressed {img_path}\")\n",
    "                except Exception as e:\n",
    "                    print(f\"Error compressing {img_path}: {e}\")\n",
    "\n",
    "compress_images(train_path)\n",
    "compress_images(test_path)\n",
    "\n",
    "train_data = ImageFolder(train_path, transform=transforms.ToTensor())\n",
    "print(train_data)\n",
    "test_data = ImageFolder(test_path, transform=transforms.ToTensor())\n",
    "print(test_data)"
   ],
   "metadata": {
    "id": "rftk2t7XtmZC",
    "executionInfo": {
     "status": "ok",
     "timestamp": 1681512363958,
     "user_tz": 240,
     "elapsed": 8,
     "user": {
      "displayName": "Jingwen Shi",
      "userId": "14606256671433276260"
     }
    },
    "ExecuteTime": {
     "start_time": "2023-04-29T18:54:12.083437Z",
     "end_time": "2023-04-29T18:54:12.207300Z"
    }
   }
  },
  {
   "cell_type": "code",
   "source": [
    "# Shape of the data\n",
    "\n",
    "for x, y in train_data:\n",
    "    print(x.shape)\n",
    "    print(y)\n",
    "    break\n",
    "\n",
    "train_loader = DataLoader(train_data, batch_size=10, shuffle=True)\n",
    "\n",
    "for x, y in train_loader:\n",
    "    print(x.shape)\n",
    "    print(y)\n",
    "    break\n",
    "\n",
    "print(\"Num of Img in Training Set:\", len(train_data))\n",
    "print(\"Num of Img in Test Set:\", len(test_data))"
   ],
   "metadata": {
    "colab": {
     "base_uri": "https://localhost:8080/"
    },
    "id": "kTqu4OzAOkeA",
    "executionInfo": {
     "status": "ok",
     "timestamp": 1681512363958,
     "user_tz": 240,
     "elapsed": 8,
     "user": {
      "displayName": "Jingwen Shi",
      "userId": "14606256671433276260"
     }
    },
    "outputId": "5d967d94-4d29-403d-dc8f-69417c9685a7",
    "ExecuteTime": {
     "start_time": "2023-04-29T18:54:12.208153Z",
     "end_time": "2023-04-29T18:54:12.263712Z"
    }
   },
   "execution_count": 52,
   "outputs": [
    {
     "name": "stdout",
     "output_type": "stream",
     "text": [
      "torch.Size([3, 480, 640])\n",
      "0\n",
      "torch.Size([10, 3, 480, 640])\n",
      "tensor([0, 1, 1, 1, 0, 0, 3, 2, 1, 3])\n",
      "Num of Img in Training Set: 16\n",
      "Num of Img in Test Set: 16\n"
     ]
    }
   ]
  },
  {
   "cell_type": "markdown",
   "source": [
    "## 5.CNN Model"
   ],
   "metadata": {
    "id": "vtca_mHSb866"
   }
  },
  {
   "cell_type": "code",
   "source": [
    "class CNN(nn.Module):\n",
    "    def __init__(self, out_channels) -> None:\n",
    "        super(CNN, self).__init__()\n",
    "\n",
    "        # Level 1: (0 + 24) / 2 = 12\n",
    "        # Level 2: (25 + 49) / 2 = 37\n",
    "        # Level 3: (50 + 74) / 2 = 62\n",
    "        # Level 4: (75 + 100) / 2 = 87\n",
    "        self.brightness_levels = 4\n",
    "        self.out_channels = out_channels\n",
    "\n",
    "        self.pool = nn.AvgPool2d(kernel_size=4, stride=4)\n",
    "\n",
    "        self.conv1 = nn.Conv2d(in_channels=3, out_channels=self.out_channels, kernel_size=3, padding=1)\n",
    "        self.batch_norm1 = nn.BatchNorm2d(self.out_channels)\n",
    "\n",
    "        self.out_channels *= 4\n",
    "\n",
    "        self.conv2 = nn.Conv2d(in_channels=self.out_channels//4, out_channels=self.out_channels, kernel_size=3, padding=1)\n",
    "        self.batch_norm2 = nn.BatchNorm2d(self.out_channels)\n",
    "\n",
    "        # A size of 640x480 picture is reduced by a factor of 2 three times in three pooling layers -> 80x60.\n",
    "        self.fc = nn.Linear(self.out_channels * 40 * 30, self.brightness_levels)\n",
    "\n",
    "    def forward(self, x):\n",
    "\n",
    "        x = self.batch_norm1(self.pool(torch.relu(self.conv1(x))))\n",
    "        x = self.batch_norm2(self.pool(torch.relu(self.conv2(x))))\n",
    "\n",
    "        # Resize the input from 4D to 3D wrt to the batch size in order to fit the input size of FC layer\n",
    "        x = x.view(-1, self.out_channels * 40 * 30)\n",
    "\n",
    "        return torch.softmax(self.fc(x), dim=1)"
   ],
   "metadata": {
    "id": "6AIlML3JvwBl",
    "executionInfo": {
     "status": "ok",
     "timestamp": 1681512368530,
     "user_tz": 240,
     "elapsed": 9,
     "user": {
      "displayName": "Jingwen Shi",
      "userId": "14606256671433276260"
     }
    },
    "ExecuteTime": {
     "start_time": "2023-04-29T18:54:12.245708Z",
     "end_time": "2023-04-29T18:54:12.263905Z"
    }
   },
   "execution_count": 53,
   "outputs": []
  },
  {
   "cell_type": "markdown",
   "source": [
    "## 6. Training"
   ],
   "metadata": {
    "id": "nOexSTt6X7mp"
   }
  },
  {
   "cell_type": "code",
   "source": [
    "def get_accuracy(model, data, batch_size=32):\n",
    "    # note: why should we use a larger batch size here?\n",
    "    loader = DataLoader(data, batch_size=batch_size)\n",
    "\n",
    "    model.eval() # annotate model for evaluation (why do we need to do this?)\n",
    "\n",
    "    correct = 0\n",
    "    total = 0\n",
    "\n",
    "    # Loader returns images and corresponding labels in a batch\n",
    "    # imgs = a batch of imgs at current iteration\n",
    "    for imgs, labels in loader:\n",
    "        imgs, labels = imgs.to(device, non_blocking=True), labels.to(device, non_blocking=True)\n",
    "        output = model(imgs)\n",
    "\n",
    "        # output.max(1, keepdim=True) returns the index of highest prob in softmax\n",
    "        _, pred = output.max(1, keepdim=True)\n",
    "        correct += pred.eq(labels.view_as(pred)).sum().item()\n",
    "        total += imgs.shape[0]\n",
    "\n",
    "    return correct/total"
   ],
   "metadata": {
    "id": "tMeHGP3BX9Dp",
    "executionInfo": {
     "status": "ok",
     "timestamp": 1681514011142,
     "user_tz": 240,
     "elapsed": 393,
     "user": {
      "displayName": "Jingwen Shi",
      "userId": "14606256671433276260"
     }
    },
    "ExecuteTime": {
     "start_time": "2023-04-29T18:54:12.250859Z",
     "end_time": "2023-04-29T18:54:12.263952Z"
    }
   },
   "execution_count": 54,
   "outputs": []
  },
  {
   "cell_type": "code",
   "source": [
    "def train(model, train_data, valid_data, batch_size=32, weight_decay=0.0,\n",
    "          optimizer=\"sgd\", momentum=0.9, learning_rate=0.001, num_epochs=7,\n",
    "          shuffle_data=True, checkpoint_path=None, print_acc=True):\n",
    "\n",
    "    train_loader = DataLoader(train_data, batch_size=batch_size, shuffle=shuffle_data, drop_last=True)\n",
    "\n",
    "    print(len(train_loader))\n",
    "\n",
    "    criterion = nn.CrossEntropyLoss()\n",
    "\n",
    "    assert optimizer in (\"sgd\", \"adam\")\n",
    "    if optimizer == \"sgd\":\n",
    "        optimizer = optim.SGD(model.parameters(),\n",
    "                              lr=learning_rate,\n",
    "                              momentum=momentum,\n",
    "                              weight_decay=weight_decay)\n",
    "    else:\n",
    "        optimizer = optim.Adam(model.parameters(),\n",
    "                               lr=learning_rate,\n",
    "                               weight_decay=weight_decay)\n",
    "\n",
    "    iters, losses, train_acc, val_acc, n = [], [], [], [], 0\n",
    "\n",
    "    print(\"\\n ----- Start Training ----- \\n\")\n",
    "\n",
    "    for epoch in range(num_epochs):\n",
    "        for imgs, labels in iter(train_loader):\n",
    "            imgs, labels = imgs.to(device, non_blocking=True), labels.to(device, non_blocking=True)\n",
    "\n",
    "            # Start training mode\n",
    "            model.train()\n",
    "\n",
    "            output = model(imgs)\n",
    "            loss = criterion(output, labels)\n",
    "            loss.backward()\n",
    "            optimizer.step()\n",
    "\n",
    "            optimizer.zero_grad()\n",
    "            n += 1\n",
    "\n",
    "        iters.append(n)\n",
    "        losses.append(float(loss)/batch_size)\n",
    "        train_acc.append(get_accuracy(model, train_data, batch_size))\n",
    "        val_acc.append(get_accuracy(model, valid_data, batch_size))\n",
    "\n",
    "        if checkpoint_path is not None:\n",
    "            torch.save(model.state_dict(), checkpoint_path)\n",
    "\n",
    "        if print_acc:\n",
    "            print(\"Iter %d. [Val Acc %.0f%%] [Train Acc %.0f%%, Loss %f]\" % (\n",
    "                    n, val_acc[-1] * 100, train_acc[-1] * 100, losses[-1]))\n",
    "\n",
    "    # Plot Graph\n",
    "    plt.title(\"Learning Curve\")\n",
    "    plt.plot(iters, losses, label=\"Train\")\n",
    "    plt.xlabel(\"Iterations\")\n",
    "    plt.ylabel(\"Loss\")\n",
    "    plt.show()\n",
    "\n",
    "    plt.title(\"Learning Curve\")\n",
    "    plt.plot(iters, train_acc, label=\"Train\")\n",
    "    plt.plot(iters, val_acc, label=\"Validation\")\n",
    "    plt.xlabel(\"Iterations\")\n",
    "    plt.ylabel(\"Training Accuracy\")\n",
    "    plt.legend(loc='best')\n",
    "    plt.show()\n",
    "\n",
    "    print(\"Final Training Accuracy: {}\".format(train_acc[-1]))\n",
    "    print(\"Final Validation Accuracy: {}\".format(val_acc[-1]))"
   ],
   "metadata": {
    "colab": {
     "base_uri": "https://localhost:8080/",
     "height": 1000
    },
    "id": "44gN6N5GaDs5",
    "executionInfo": {
     "status": "ok",
     "timestamp": 1681513980812,
     "user_tz": 240,
     "elapsed": 2303,
     "user": {
      "displayName": "Jingwen Shi",
      "userId": "14606256671433276260"
     }
    },
    "outputId": "3b376413-018d-48b6-b263-f9f62614857a",
    "ExecuteTime": {
     "start_time": "2023-04-29T18:54:12.256103Z",
     "end_time": "2023-04-29T18:54:12.263999Z"
    }
   },
   "execution_count": 55,
   "outputs": []
  },
  {
   "cell_type": "code",
   "execution_count": 56,
   "outputs": [
    {
     "name": "stdout",
     "output_type": "stream",
     "text": [
      "8\n",
      "\n",
      " ----- Start Training ----- \n",
      "\n",
      "Iter 8. [Val Acc 25%] [Train Acc 25%, Loss 0.662757]\n",
      "Iter 16. [Val Acc 31%] [Train Acc 31%, Loss 0.530078]\n",
      "Iter 24. [Val Acc 38%] [Train Acc 38%, Loss 0.518367]\n",
      "Iter 32. [Val Acc 50%] [Train Acc 50%, Loss 0.586686]\n",
      "Iter 40. [Val Acc 56%] [Train Acc 56%, Loss 0.644721]\n",
      "Iter 48. [Val Acc 69%] [Train Acc 69%, Loss 0.592420]\n",
      "Iter 56. [Val Acc 69%] [Train Acc 69%, Loss 0.557215]\n",
      "Iter 64. [Val Acc 62%] [Train Acc 62%, Loss 0.397983]\n",
      "Iter 72. [Val Acc 75%] [Train Acc 75%, Loss 0.611029]\n",
      "Iter 80. [Val Acc 69%] [Train Acc 69%, Loss 0.617017]\n",
      "Iter 88. [Val Acc 69%] [Train Acc 69%, Loss 0.435249]\n",
      "Iter 96. [Val Acc 75%] [Train Acc 75%, Loss 0.810956]\n",
      "Iter 104. [Val Acc 81%] [Train Acc 81%, Loss 0.382698]\n",
      "Iter 112. [Val Acc 81%] [Train Acc 81%, Loss 0.799157]\n",
      "Iter 120. [Val Acc 81%] [Train Acc 81%, Loss 0.412273]\n",
      "Iter 128. [Val Acc 81%] [Train Acc 81%, Loss 0.671059]\n",
      "Iter 136. [Val Acc 81%] [Train Acc 81%, Loss 0.579247]\n",
      "Iter 144. [Val Acc 81%] [Train Acc 81%, Loss 0.447479]\n",
      "Iter 152. [Val Acc 81%] [Train Acc 81%, Loss 0.403944]\n",
      "Iter 160. [Val Acc 81%] [Train Acc 81%, Loss 0.453413]\n",
      "Iter 168. [Val Acc 88%] [Train Acc 88%, Loss 0.379259]\n",
      "Iter 176. [Val Acc 88%] [Train Acc 88%, Loss 0.709042]\n",
      "Iter 184. [Val Acc 88%] [Train Acc 88%, Loss 0.220508]\n",
      "Iter 192. [Val Acc 88%] [Train Acc 88%, Loss 0.399464]\n",
      "Iter 200. [Val Acc 88%] [Train Acc 88%, Loss 0.426682]\n",
      "Iter 208. [Val Acc 94%] [Train Acc 94%, Loss 0.376516]\n",
      "Iter 216. [Val Acc 88%] [Train Acc 88%, Loss 0.608214]\n",
      "Iter 224. [Val Acc 81%] [Train Acc 81%, Loss 0.597953]\n",
      "Iter 232. [Val Acc 81%] [Train Acc 81%, Loss 0.383313]\n",
      "Iter 240. [Val Acc 81%] [Train Acc 81%, Loss 0.419452]\n",
      "Iter 248. [Val Acc 88%] [Train Acc 88%, Loss 0.381387]\n",
      "Iter 256. [Val Acc 88%] [Train Acc 88%, Loss 0.380001]\n",
      "Iter 264. [Val Acc 88%] [Train Acc 88%, Loss 0.577411]\n",
      "Iter 272. [Val Acc 88%] [Train Acc 88%, Loss 0.622909]\n",
      "Iter 280. [Val Acc 88%] [Train Acc 88%, Loss 0.399467]\n",
      "Iter 288. [Val Acc 88%] [Train Acc 88%, Loss 0.389337]\n",
      "Iter 296. [Val Acc 88%] [Train Acc 88%, Loss 0.380151]\n",
      "Iter 304. [Val Acc 88%] [Train Acc 88%, Loss 0.384022]\n",
      "Iter 312. [Val Acc 94%] [Train Acc 94%, Loss 0.502988]\n",
      "Iter 320. [Val Acc 94%] [Train Acc 94%, Loss 0.390486]\n",
      "Iter 328. [Val Acc 94%] [Train Acc 94%, Loss 0.396541]\n",
      "Iter 336. [Val Acc 88%] [Train Acc 88%, Loss 0.375805]\n",
      "Iter 344. [Val Acc 94%] [Train Acc 94%, Loss 0.391365]\n",
      "Iter 352. [Val Acc 88%] [Train Acc 88%, Loss 0.564622]\n",
      "Iter 360. [Val Acc 94%] [Train Acc 94%, Loss 0.373364]\n",
      "Iter 368. [Val Acc 94%] [Train Acc 94%, Loss 0.621407]\n",
      "Iter 376. [Val Acc 88%] [Train Acc 88%, Loss 0.373322]\n",
      "Iter 384. [Val Acc 88%] [Train Acc 88%, Loss 0.613866]\n",
      "Iter 392. [Val Acc 94%] [Train Acc 94%, Loss 0.453892]\n",
      "Iter 400. [Val Acc 88%] [Train Acc 88%, Loss 0.551941]\n",
      "Iter 408. [Val Acc 94%] [Train Acc 94%, Loss 0.433004]\n",
      "Iter 416. [Val Acc 100%] [Train Acc 100%, Loss 0.481070]\n",
      "Iter 424. [Val Acc 100%] [Train Acc 100%, Loss 0.562863]\n",
      "Iter 432. [Val Acc 94%] [Train Acc 94%, Loss 0.376321]\n",
      "Iter 440. [Val Acc 94%] [Train Acc 94%, Loss 0.428394]\n",
      "Iter 448. [Val Acc 100%] [Train Acc 100%, Loss 0.420264]\n",
      "Iter 456. [Val Acc 100%] [Train Acc 100%, Loss 0.376217]\n",
      "Iter 464. [Val Acc 100%] [Train Acc 100%, Loss 0.373930]\n",
      "Iter 472. [Val Acc 94%] [Train Acc 94%, Loss 0.374543]\n",
      "Iter 480. [Val Acc 100%] [Train Acc 100%, Loss 0.396416]\n",
      "Iter 488. [Val Acc 100%] [Train Acc 100%, Loss 0.495070]\n",
      "Iter 496. [Val Acc 100%] [Train Acc 100%, Loss 0.186294]\n",
      "Iter 504. [Val Acc 100%] [Train Acc 100%, Loss 0.551530]\n",
      "Iter 512. [Val Acc 100%] [Train Acc 100%, Loss 0.379569]\n",
      "Iter 520. [Val Acc 94%] [Train Acc 94%, Loss 0.611829]\n",
      "Iter 528. [Val Acc 100%] [Train Acc 100%, Loss 0.394925]\n",
      "Iter 536. [Val Acc 100%] [Train Acc 100%, Loss 0.376593]\n",
      "Iter 544. [Val Acc 100%] [Train Acc 100%, Loss 0.406364]\n",
      "Iter 552. [Val Acc 94%] [Train Acc 94%, Loss 0.555008]\n",
      "Iter 560. [Val Acc 100%] [Train Acc 100%, Loss 0.376903]\n"
     ]
    },
    {
     "data": {
      "text/plain": "<Figure size 432x288 with 1 Axes>",
      "image/png": "[encoded data removed]"
     },
     "metadata": {
      "needs_background": "light"
     },
     "output_type": "display_data"
    },
    {
     "data": {
      "text/plain": "<Figure size 432x288 with 1 Axes>",
      "image/png": "[encoded data removed]"
     },
     "metadata": {
      "needs_background": "light"
     },
     "output_type": "display_data"
    },
    {
     "name": "stdout",
     "output_type": "stream",
     "text": [
      "Final Training Accuracy: 1.0\n",
      "Final Validation Accuracy: 1.0\n"
     ]
    }
   ],
   "source": [
    "# Hyper-parameters\n",
    "out_channels = 2\n",
    "\n",
    "model = CNN(out_channels)\n",
    "model = model.to(device)\n",
    "\n",
    "train(model, train_data, test_data, batch_size=2, weight_decay=0.0,\n",
    "      optimizer=\"adam\", momentum=0.9, learning_rate=0.0001, num_epochs=70,\n",
    "      shuffle_data=True, checkpoint_path=None)"
   ],
   "metadata": {
    "collapsed": false,
    "ExecuteTime": {
     "start_time": "2023-04-29T18:54:12.258993Z",
     "end_time": "2023-04-29T18:54:31.456047Z"
    }
   }
  }
 ],
 "metadata": {
  "kernelspec": {
   "display_name": "Python 3",
   "language": "python",
   "name": "python3"
  },
  "language_info": {
   "codemirror_mode": {
    "name": "ipython",
    "version": 2
   },
   "file_extension": ".py",
   "mimetype": "text/x-python",
   "name": "python",
   "nbconvert_exporter": "python",
   "pygments_lexer": "ipython2",
   "version": "2.7.6"
  },
  "colab": {
   "provenance": [
    {
     "file_id": "1el2s1Rgy7FX24o_rO1Hg9vIeck_plia0",
     "timestamp": 1680570556286
    }
   ],
   "toc_visible": true
  },
  "accelerator": "GPU",
  "gpuClass": "standard"
 },
 "nbformat": 4,
 "nbformat_minor": 0
}
